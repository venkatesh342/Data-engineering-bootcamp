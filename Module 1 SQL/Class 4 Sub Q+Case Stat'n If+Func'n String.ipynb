{
 "cells": [
  {
   "cell_type": "code",
   "execution_count": 0,
   "metadata": {
    "application/vnd.databricks.v1+cell": {
     "cellMetadata": {
      "byteLimit": 2048000,
      "rowLimit": 10000
     },
     "collapsed": true,
     "inputWidgets": {},
     "nuid": "a48e958a-aaf4-4228-98c7-9caebd41c260",
     "showTitle": false,
     "tableResultSettingsMap": {},
     "title": ""
    }
   },
   "outputs": [],
   "source": [
    "-- Find customers who placed orders above the average order amount.\n",
    "\n",
    "\n",
    "select distinct c.first_name, c.last_name , o.total_amount\n",
    "FROM customers c INNER JOIN orders o ON c.customer_id = o.customer_id WHERE o.total_amount >\n",
    "(\n",
    "SELECT AVG(total_amount) FROM orders\n",
    ")"
   ]
  },
  {
   "cell_type": "code",
   "execution_count": 0,
   "metadata": {
    "application/vnd.databricks.v1+cell": {
     "cellMetadata": {
      "byteLimit": 2048000,
      "rowLimit": 10000
     },
     "collapsed": true,
     "inputWidgets": {},
     "nuid": "95d607da-15b0-4691-88ad-6d96d5cccbbf",
     "showTitle": false,
     "tableResultSettingsMap": {},
     "title": ""
    }
   },
   "outputs": [],
   "source": [
    "-- List all products that have been sold more than 5 times in total.\n",
    "SELECT\n",
    "od.product_name as PRODUCT_NAME,sum(od.quantity) AS TOTAL_SOLD\n",
    "FROM order_details od GROUP BY od.product_name HAVING SUM(od.quantity) >\n",
    "(SELECT 2)"
   ]
  },
  {
   "cell_type": "code",
   "execution_count": 0,
   "metadata": {
    "application/vnd.databricks.v1+cell": {
     "cellMetadata": {
      "byteLimit": 2048000,
      "rowLimit": 10000
     },
     "collapsed": true,
     "inputWidgets": {},
     "nuid": "cc265e20-8776-44d5-af29-f906e96a8bdc",
     "showTitle": false,
     "tableResultSettingsMap": {},
     "title": ""
    }
   },
   "outputs": [],
   "source": [
    "--  List customers and their total quantity of products ordered.\n",
    "\n",
    "WITH customer_orders AS (\n",
    "    SELECT c.customer_id, c.first_name, SUM(od.quantity) AS total_quantity\n",
    "    FROM customers c\n",
    "    INNER JOIN orders o ON c.customer_id = o.customer_id\n",
    "    INNER JOIN order_details od ON o.order_id = od.order_id\n",
    "    GROUP BY c.customer_id, c.first_name\n",
    ")\n",
    "\n",
    "SELECT * FROM customer_orders WHERE total_quantity>3;"
   ]
  },
  {
   "cell_type": "code",
   "execution_count": 0,
   "metadata": {
    "application/vnd.databricks.v1+cell": {
     "cellMetadata": {
      "byteLimit": 2048000,
      "rowLimit": 10000
     },
     "collapsed": true,
     "inputWidgets": {},
     "nuid": "cfc6dbe6-1ec9-4b4b-a060-1da55a6b216f",
     "showTitle": false,
     "tableResultSettingsMap": {},
     "title": ""
    }
   },
   "outputs": [],
   "source": [
    "--Find products with their total sales revenue (price * quantity).\n",
    "\n",
    "\n",
    "\n",
    "WITH product_sales AS (\n",
    "    SELECT od.product_name, SUM(od.price_each * od.quantity) AS total_revenue\n",
    "    FROM order_details od \n",
    "    GROUP BY 1\n",
    ")\n",
    "\n",
    "SELECT * FROM product_sales WHERE total_revenue > 10000"
   ]
  },
  {
   "cell_type": "markdown",
   "metadata": {
    "application/vnd.databricks.v1+cell": {
     "cellMetadata": {},
     "inputWidgets": {},
     "nuid": "363752ef-bcc0-4a0d-81b2-062eff4490c7",
     "showTitle": false,
     "tableResultSettingsMap": {},
     "title": ""
    }
   },
   "source": [
    "CASE Statements (SQL IF/ELSE)"
   ]
  },
  {
   "cell_type": "code",
   "execution_count": 0,
   "metadata": {
    "application/vnd.databricks.v1+cell": {
     "cellMetadata": {
      "byteLimit": 2048000,
      "rowLimit": 10000
     },
     "collapsed": true,
     "inputWidgets": {},
     "nuid": "c7be4a5e-aee3-4052-b8bd-6cb9fca323dc",
     "showTitle": false,
     "tableResultSettingsMap": {},
     "title": ""
    }
   },
   "outputs": [],
   "source": [
    "--Categorize each order as 'Small', 'Medium', 'Large'.\n",
    "\n",
    "\n",
    "SELECT o.order_id,o.total_amount, \n",
    "      CASE\n",
    "          WHEN o.total_amount<1000 THEN 'SMALL'\n",
    "          WHEN o.total_amount BETWEEN 1000 and 5000 THEN 'MEDIUM'\n",
    "          ELSE 'LARGE'\n",
    "      END AS ORDER_SIZE \n",
    "\n",
    "\n",
    "FROM orders o "
   ]
  },
  {
   "cell_type": "code",
   "execution_count": 0,
   "metadata": {
    "application/vnd.databricks.v1+cell": {
     "cellMetadata": {
      "byteLimit": 2048000,
      "rowLimit": 10000
     },
     "collapsed": true,
     "inputWidgets": {},
     "nuid": "a7875420-9d2c-409c-a8c2-c1a0df646d5b",
     "showTitle": false,
     "tableResultSettingsMap": {},
     "title": ""
    }
   },
   "outputs": [],
   "source": [
    "-- Categorize each order as 'Small', 'Medium', 'Large'.\n",
    "\n",
    "WITH categorized_orders AS (\n",
    "    SELECT o.order_id, o.total_amount, \n",
    "          CASE\n",
    "              WHEN o.total_amount < 1000 THEN 'SMALL'\n",
    "              WHEN o.total_amount BETWEEN 1000 AND 1500 THEN 'MEDIUM'\n",
    "              ELSE 'LARGE'\n",
    "          END AS ORDER_SIZE \n",
    "    FROM orders o\n",
    ")\n",
    "SELECT * \n",
    "FROM categorized_orders \n",
    "WHERE ORDER_SIZE = 'LARGE'"
   ]
  },
  {
   "cell_type": "code",
   "execution_count": 0,
   "metadata": {
    "application/vnd.databricks.v1+cell": {
     "cellMetadata": {
      "byteLimit": 2048000,
      "rowLimit": 10000
     },
     "collapsed": true,
     "inputWidgets": {},
     "nuid": "df3504a9-917d-4d56-ab75-3e4d02df52c5",
     "showTitle": false,
     "tableResultSettingsMap": {},
     "title": ""
    }
   },
   "outputs": [],
   "source": [
    "--Label customers as 'New' or 'Returning' based on order count.\n",
    "\n",
    "\n",
    "SELECT c.first_name, COUNT(o.order_id) AS total_orders,\n",
    "       CASE\n",
    "           WHEN COUNT(o.order_id) = 1 THEN 'New'\n",
    "           WHEN COUNT(o.order_id) > 1 THEN 'Returning'\n",
    "           ELSE 'No Orders'\n",
    "       END AS customer_type\n",
    "FROM customers c\n",
    "LEFT JOIN orders o ON c.customer_id = o.customer_id\n",
    "GROUP BY c.customer_id, c.first_name;"
   ]
  },
  {
   "cell_type": "markdown",
   "metadata": {
    "application/vnd.databricks.v1+cell": {
     "cellMetadata": {},
     "inputWidgets": {},
     "nuid": "cf3ba5e3-5129-4d4a-b11e-829445db0414",
     "showTitle": false,
     "tableResultSettingsMap": {},
     "title": ""
    }
   },
   "source": [
    "FUNCTIONS (STRIING + DATE)\n"
   ]
  },
  {
   "cell_type": "code",
   "execution_count": 0,
   "metadata": {
    "application/vnd.databricks.v1+cell": {
     "cellMetadata": {
      "byteLimit": 2048000,
      "rowLimit": 10000
     },
     "collapsed": true,
     "inputWidgets": {},
     "nuid": "e353f0c3-7613-45ca-baa6-3067ffd3da22",
     "showTitle": false,
     "tableResultSettingsMap": {},
     "title": ""
    }
   },
   "outputs": [],
   "source": [
    "SELECT UPPER(c.first_name) AS FIRST_NAME_UPPERCASE from customers c \n"
   ]
  },
  {
   "cell_type": "code",
   "execution_count": 0,
   "metadata": {
    "application/vnd.databricks.v1+cell": {
     "cellMetadata": {
      "byteLimit": 2048000,
      "rowLimit": 10000
     },
     "collapsed": true,
     "inputWidgets": {},
     "nuid": "5a0e6ef3-302e-4c03-829d-28014d6a608f",
     "showTitle": false,
     "tableResultSettingsMap": {},
     "title": ""
    }
   },
   "outputs": [],
   "source": [
    "SELECT LOWER(c.first_name) AS FIRST_NAME_UPPERCASE from customers c \n",
    "\n"
   ]
  },
  {
   "cell_type": "code",
   "execution_count": 0,
   "metadata": {
    "application/vnd.databricks.v1+cell": {
     "cellMetadata": {
      "byteLimit": 2048000,
      "rowLimit": 10000
     },
     "collapsed": true,
     "inputWidgets": {},
     "nuid": "fa997c88-bacb-419f-ae33-d3fa511d9a70",
     "showTitle": false,
     "tableResultSettingsMap": {},
     "title": ""
    }
   },
   "outputs": [],
   "source": [
    "SELECT UPPER(CONCAT(c.first_name,\" \",c.last_name)) AS FULL_NAME from customers c \n"
   ]
  },
  {
   "cell_type": "code",
   "execution_count": 0,
   "metadata": {
    "application/vnd.databricks.v1+cell": {
     "cellMetadata": {
      "byteLimit": 2048000,
      "rowLimit": 10000
     },
     "collapsed": true,
     "inputWidgets": {},
     "nuid": "7feb5ec5-ad4c-4fa3-9856-c0d2005ad39f",
     "showTitle": false,
     "tableResultSettingsMap": {},
     "title": ""
    }
   },
   "outputs": [],
   "source": [
    "-- Extract month of each order & group orders by month.\n",
    "SELECT MONTH(o.order_date) AS order_month, count(o.order_id) AS _total_orders \n",
    "FROM orders o \n",
    "GROUP BY 1\n",
    "ORDER BY 1\n",
    "     \n"
   ]
  },
  {
   "cell_type": "code",
   "execution_count": 0,
   "metadata": {
    "application/vnd.databricks.v1+cell": {
     "cellMetadata": {
      "byteLimit": 2048000,
      "rowLimit": 10000
     },
     "inputWidgets": {},
     "nuid": "608025c0-d61a-4824-8583-f973de3c3562",
     "showTitle": false,
     "tableResultSettingsMap": {},
     "title": ""
    }
   },
   "outputs": [],
   "source": [
    "-- List each customer's name + their total spend + spending category.\n",
    "\n",
    "WITH customer_spend AS (\n",
    "    SELECT c.customer_id, CONCAT(c.first_name, ' ', c.last_name) AS full_name,\n",
    "           SUM(od.quantity * od.price_each) AS total_spent\n",
    "    FROM customers c\n",
    "    INNER JOIN orders o ON c.customer_id = o.customer_id\n",
    "    INNER JOIN order_details od ON o.order_id = od.order_id\n",
    "    GROUP BY c.customer_id, c.first_name, c.last_name\n",
    ")\n",
    "\n",
    "SELECT full_name, total_spent,\n",
    "       CASE\n",
    "           WHEN total_spent < 10000 THEN 'Bronze'\n",
    "           WHEN total_spent BETWEEN 10000 AND 2000 THEN 'Silver'\n",
    "           ELSE 'Gold'\n",
    "       END AS customer_tier\n",
    "FROM customer_spend;\n",
    "     "
   ]
  }
 ],
 "metadata": {
  "application/vnd.databricks.v1+notebook": {
   "computePreferences": null,
   "dashboards": [],
   "environmentMetadata": {
    "base_environment": "",
    "environment_version": "2"
   },
   "inputWidgetPreferences": null,
   "language": "sql",
   "notebookMetadata": {
    "pythonIndentUnit": 4
   },
   "notebookName": "Class 4 Sub Q+Case Stat'n If+Func'n String",
   "widgets": {}
  },
  "language_info": {
   "name": "sql"
  }
 },
 "nbformat": 4,
 "nbformat_minor": 0
}
